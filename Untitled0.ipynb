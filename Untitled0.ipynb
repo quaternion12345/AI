{
  "nbformat": 4,
  "nbformat_minor": 0,
  "metadata": {
    "colab": {
      "name": "Untitled0.ipynb",
      "provenance": [],
      "authorship_tag": "ABX9TyMVSnitr+nxwZJZayn9YKG+",
      "include_colab_link": true
    },
    "kernelspec": {
      "name": "python3",
      "display_name": "Python 3"
    },
    "widgets": {
      "application/vnd.jupyter.widget-state+json": {
        "2f353d737fbd4ff9b1f4868962b93c7b": {
          "model_module": "@jupyter-widgets/controls",
          "model_name": "HBoxModel",
          "state": {
            "_view_name": "HBoxView",
            "_dom_classes": [],
            "_model_name": "HBoxModel",
            "_view_module": "@jupyter-widgets/controls",
            "_model_module_version": "1.5.0",
            "_view_count": null,
            "_view_module_version": "1.5.0",
            "box_style": "",
            "layout": "IPY_MODEL_b870262751a14e57a40637fd207e96f3",
            "_model_module": "@jupyter-widgets/controls",
            "children": [
              "IPY_MODEL_4668855676e646f59ef46f2d2b988449",
              "IPY_MODEL_794ee67a813c4ae7a442add2348f2309"
            ]
          }
        },
        "b870262751a14e57a40637fd207e96f3": {
          "model_module": "@jupyter-widgets/base",
          "model_name": "LayoutModel",
          "state": {
            "_view_name": "LayoutView",
            "grid_template_rows": null,
            "right": null,
            "justify_content": null,
            "_view_module": "@jupyter-widgets/base",
            "overflow": null,
            "_model_module_version": "1.2.0",
            "_view_count": null,
            "flex_flow": null,
            "width": null,
            "min_width": null,
            "border": null,
            "align_items": null,
            "bottom": null,
            "_model_module": "@jupyter-widgets/base",
            "top": null,
            "grid_column": null,
            "overflow_y": null,
            "overflow_x": null,
            "grid_auto_flow": null,
            "grid_area": null,
            "grid_template_columns": null,
            "flex": null,
            "_model_name": "LayoutModel",
            "justify_items": null,
            "grid_row": null,
            "max_height": null,
            "align_content": null,
            "visibility": null,
            "align_self": null,
            "height": null,
            "min_height": null,
            "padding": null,
            "grid_auto_rows": null,
            "grid_gap": null,
            "max_width": null,
            "order": null,
            "_view_module_version": "1.2.0",
            "grid_template_areas": null,
            "object_position": null,
            "object_fit": null,
            "grid_auto_columns": null,
            "margin": null,
            "display": null,
            "left": null
          }
        },
        "4668855676e646f59ef46f2d2b988449": {
          "model_module": "@jupyter-widgets/controls",
          "model_name": "FloatProgressModel",
          "state": {
            "_view_name": "ProgressView",
            "style": "IPY_MODEL_fa45d4e7169b4ebeb06e0224cd002462",
            "_dom_classes": [],
            "description": "",
            "_model_name": "FloatProgressModel",
            "bar_style": "success",
            "max": 9912422,
            "_view_module": "@jupyter-widgets/controls",
            "_model_module_version": "1.5.0",
            "value": 9912422,
            "_view_count": null,
            "_view_module_version": "1.5.0",
            "orientation": "horizontal",
            "min": 0,
            "description_tooltip": null,
            "_model_module": "@jupyter-widgets/controls",
            "layout": "IPY_MODEL_1da20073e9fd42889c1bdc28856907f3"
          }
        },
        "794ee67a813c4ae7a442add2348f2309": {
          "model_module": "@jupyter-widgets/controls",
          "model_name": "HTMLModel",
          "state": {
            "_view_name": "HTMLView",
            "style": "IPY_MODEL_fcfd1593be844fe28de8393963cffd6c",
            "_dom_classes": [],
            "description": "",
            "_model_name": "HTMLModel",
            "placeholder": "​",
            "_view_module": "@jupyter-widgets/controls",
            "_model_module_version": "1.5.0",
            "value": " 9913344/? [00:30&lt;00:00, 323464.19it/s]",
            "_view_count": null,
            "_view_module_version": "1.5.0",
            "description_tooltip": null,
            "_model_module": "@jupyter-widgets/controls",
            "layout": "IPY_MODEL_12bbdfb51524446bb0cb33ba59cc9635"
          }
        },
        "fa45d4e7169b4ebeb06e0224cd002462": {
          "model_module": "@jupyter-widgets/controls",
          "model_name": "ProgressStyleModel",
          "state": {
            "_view_name": "StyleView",
            "_model_name": "ProgressStyleModel",
            "description_width": "initial",
            "_view_module": "@jupyter-widgets/base",
            "_model_module_version": "1.5.0",
            "_view_count": null,
            "_view_module_version": "1.2.0",
            "bar_color": null,
            "_model_module": "@jupyter-widgets/controls"
          }
        },
        "1da20073e9fd42889c1bdc28856907f3": {
          "model_module": "@jupyter-widgets/base",
          "model_name": "LayoutModel",
          "state": {
            "_view_name": "LayoutView",
            "grid_template_rows": null,
            "right": null,
            "justify_content": null,
            "_view_module": "@jupyter-widgets/base",
            "overflow": null,
            "_model_module_version": "1.2.0",
            "_view_count": null,
            "flex_flow": null,
            "width": null,
            "min_width": null,
            "border": null,
            "align_items": null,
            "bottom": null,
            "_model_module": "@jupyter-widgets/base",
            "top": null,
            "grid_column": null,
            "overflow_y": null,
            "overflow_x": null,
            "grid_auto_flow": null,
            "grid_area": null,
            "grid_template_columns": null,
            "flex": null,
            "_model_name": "LayoutModel",
            "justify_items": null,
            "grid_row": null,
            "max_height": null,
            "align_content": null,
            "visibility": null,
            "align_self": null,
            "height": null,
            "min_height": null,
            "padding": null,
            "grid_auto_rows": null,
            "grid_gap": null,
            "max_width": null,
            "order": null,
            "_view_module_version": "1.2.0",
            "grid_template_areas": null,
            "object_position": null,
            "object_fit": null,
            "grid_auto_columns": null,
            "margin": null,
            "display": null,
            "left": null
          }
        },
        "fcfd1593be844fe28de8393963cffd6c": {
          "model_module": "@jupyter-widgets/controls",
          "model_name": "DescriptionStyleModel",
          "state": {
            "_view_name": "StyleView",
            "_model_name": "DescriptionStyleModel",
            "description_width": "",
            "_view_module": "@jupyter-widgets/base",
            "_model_module_version": "1.5.0",
            "_view_count": null,
            "_view_module_version": "1.2.0",
            "_model_module": "@jupyter-widgets/controls"
          }
        },
        "12bbdfb51524446bb0cb33ba59cc9635": {
          "model_module": "@jupyter-widgets/base",
          "model_name": "LayoutModel",
          "state": {
            "_view_name": "LayoutView",
            "grid_template_rows": null,
            "right": null,
            "justify_content": null,
            "_view_module": "@jupyter-widgets/base",
            "overflow": null,
            "_model_module_version": "1.2.0",
            "_view_count": null,
            "flex_flow": null,
            "width": null,
            "min_width": null,
            "border": null,
            "align_items": null,
            "bottom": null,
            "_model_module": "@jupyter-widgets/base",
            "top": null,
            "grid_column": null,
            "overflow_y": null,
            "overflow_x": null,
            "grid_auto_flow": null,
            "grid_area": null,
            "grid_template_columns": null,
            "flex": null,
            "_model_name": "LayoutModel",
            "justify_items": null,
            "grid_row": null,
            "max_height": null,
            "align_content": null,
            "visibility": null,
            "align_self": null,
            "height": null,
            "min_height": null,
            "padding": null,
            "grid_auto_rows": null,
            "grid_gap": null,
            "max_width": null,
            "order": null,
            "_view_module_version": "1.2.0",
            "grid_template_areas": null,
            "object_position": null,
            "object_fit": null,
            "grid_auto_columns": null,
            "margin": null,
            "display": null,
            "left": null
          }
        },
        "19324aa348484a7a9e0950fd6df4242a": {
          "model_module": "@jupyter-widgets/controls",
          "model_name": "HBoxModel",
          "state": {
            "_view_name": "HBoxView",
            "_dom_classes": [],
            "_model_name": "HBoxModel",
            "_view_module": "@jupyter-widgets/controls",
            "_model_module_version": "1.5.0",
            "_view_count": null,
            "_view_module_version": "1.5.0",
            "box_style": "",
            "layout": "IPY_MODEL_80e03014a6434f7abaaa89756a5b2d1d",
            "_model_module": "@jupyter-widgets/controls",
            "children": [
              "IPY_MODEL_b6942e5484ab4cdcad3e1023c5b4ec83",
              "IPY_MODEL_c2aa5ad23d974218b4dab1a1fe8ca81d"
            ]
          }
        },
        "80e03014a6434f7abaaa89756a5b2d1d": {
          "model_module": "@jupyter-widgets/base",
          "model_name": "LayoutModel",
          "state": {
            "_view_name": "LayoutView",
            "grid_template_rows": null,
            "right": null,
            "justify_content": null,
            "_view_module": "@jupyter-widgets/base",
            "overflow": null,
            "_model_module_version": "1.2.0",
            "_view_count": null,
            "flex_flow": null,
            "width": null,
            "min_width": null,
            "border": null,
            "align_items": null,
            "bottom": null,
            "_model_module": "@jupyter-widgets/base",
            "top": null,
            "grid_column": null,
            "overflow_y": null,
            "overflow_x": null,
            "grid_auto_flow": null,
            "grid_area": null,
            "grid_template_columns": null,
            "flex": null,
            "_model_name": "LayoutModel",
            "justify_items": null,
            "grid_row": null,
            "max_height": null,
            "align_content": null,
            "visibility": null,
            "align_self": null,
            "height": null,
            "min_height": null,
            "padding": null,
            "grid_auto_rows": null,
            "grid_gap": null,
            "max_width": null,
            "order": null,
            "_view_module_version": "1.2.0",
            "grid_template_areas": null,
            "object_position": null,
            "object_fit": null,
            "grid_auto_columns": null,
            "margin": null,
            "display": null,
            "left": null
          }
        },
        "b6942e5484ab4cdcad3e1023c5b4ec83": {
          "model_module": "@jupyter-widgets/controls",
          "model_name": "FloatProgressModel",
          "state": {
            "_view_name": "ProgressView",
            "style": "IPY_MODEL_22523ac5cc7e43fa9fa664cf98c0126b",
            "_dom_classes": [],
            "description": "",
            "_model_name": "FloatProgressModel",
            "bar_style": "success",
            "max": 28881,
            "_view_module": "@jupyter-widgets/controls",
            "_model_module_version": "1.5.0",
            "value": 28881,
            "_view_count": null,
            "_view_module_version": "1.5.0",
            "orientation": "horizontal",
            "min": 0,
            "description_tooltip": null,
            "_model_module": "@jupyter-widgets/controls",
            "layout": "IPY_MODEL_7ed05823d79844ec835fee89941b68a0"
          }
        },
        "c2aa5ad23d974218b4dab1a1fe8ca81d": {
          "model_module": "@jupyter-widgets/controls",
          "model_name": "HTMLModel",
          "state": {
            "_view_name": "HTMLView",
            "style": "IPY_MODEL_ac75f96af52742868f15d8ea593294cc",
            "_dom_classes": [],
            "description": "",
            "_model_name": "HTMLModel",
            "placeholder": "​",
            "_view_module": "@jupyter-widgets/controls",
            "_model_module_version": "1.5.0",
            "value": " 29696/? [00:01&lt;00:00, 20249.00it/s]",
            "_view_count": null,
            "_view_module_version": "1.5.0",
            "description_tooltip": null,
            "_model_module": "@jupyter-widgets/controls",
            "layout": "IPY_MODEL_7271b25f524c4b65be56dfda8bfc26eb"
          }
        },
        "22523ac5cc7e43fa9fa664cf98c0126b": {
          "model_module": "@jupyter-widgets/controls",
          "model_name": "ProgressStyleModel",
          "state": {
            "_view_name": "StyleView",
            "_model_name": "ProgressStyleModel",
            "description_width": "initial",
            "_view_module": "@jupyter-widgets/base",
            "_model_module_version": "1.5.0",
            "_view_count": null,
            "_view_module_version": "1.2.0",
            "bar_color": null,
            "_model_module": "@jupyter-widgets/controls"
          }
        },
        "7ed05823d79844ec835fee89941b68a0": {
          "model_module": "@jupyter-widgets/base",
          "model_name": "LayoutModel",
          "state": {
            "_view_name": "LayoutView",
            "grid_template_rows": null,
            "right": null,
            "justify_content": null,
            "_view_module": "@jupyter-widgets/base",
            "overflow": null,
            "_model_module_version": "1.2.0",
            "_view_count": null,
            "flex_flow": null,
            "width": null,
            "min_width": null,
            "border": null,
            "align_items": null,
            "bottom": null,
            "_model_module": "@jupyter-widgets/base",
            "top": null,
            "grid_column": null,
            "overflow_y": null,
            "overflow_x": null,
            "grid_auto_flow": null,
            "grid_area": null,
            "grid_template_columns": null,
            "flex": null,
            "_model_name": "LayoutModel",
            "justify_items": null,
            "grid_row": null,
            "max_height": null,
            "align_content": null,
            "visibility": null,
            "align_self": null,
            "height": null,
            "min_height": null,
            "padding": null,
            "grid_auto_rows": null,
            "grid_gap": null,
            "max_width": null,
            "order": null,
            "_view_module_version": "1.2.0",
            "grid_template_areas": null,
            "object_position": null,
            "object_fit": null,
            "grid_auto_columns": null,
            "margin": null,
            "display": null,
            "left": null
          }
        },
        "ac75f96af52742868f15d8ea593294cc": {
          "model_module": "@jupyter-widgets/controls",
          "model_name": "DescriptionStyleModel",
          "state": {
            "_view_name": "StyleView",
            "_model_name": "DescriptionStyleModel",
            "description_width": "",
            "_view_module": "@jupyter-widgets/base",
            "_model_module_version": "1.5.0",
            "_view_count": null,
            "_view_module_version": "1.2.0",
            "_model_module": "@jupyter-widgets/controls"
          }
        },
        "7271b25f524c4b65be56dfda8bfc26eb": {
          "model_module": "@jupyter-widgets/base",
          "model_name": "LayoutModel",
          "state": {
            "_view_name": "LayoutView",
            "grid_template_rows": null,
            "right": null,
            "justify_content": null,
            "_view_module": "@jupyter-widgets/base",
            "overflow": null,
            "_model_module_version": "1.2.0",
            "_view_count": null,
            "flex_flow": null,
            "width": null,
            "min_width": null,
            "border": null,
            "align_items": null,
            "bottom": null,
            "_model_module": "@jupyter-widgets/base",
            "top": null,
            "grid_column": null,
            "overflow_y": null,
            "overflow_x": null,
            "grid_auto_flow": null,
            "grid_area": null,
            "grid_template_columns": null,
            "flex": null,
            "_model_name": "LayoutModel",
            "justify_items": null,
            "grid_row": null,
            "max_height": null,
            "align_content": null,
            "visibility": null,
            "align_self": null,
            "height": null,
            "min_height": null,
            "padding": null,
            "grid_auto_rows": null,
            "grid_gap": null,
            "max_width": null,
            "order": null,
            "_view_module_version": "1.2.0",
            "grid_template_areas": null,
            "object_position": null,
            "object_fit": null,
            "grid_auto_columns": null,
            "margin": null,
            "display": null,
            "left": null
          }
        },
        "d49384adf9774ae9833d5ca4a0551871": {
          "model_module": "@jupyter-widgets/controls",
          "model_name": "HBoxModel",
          "state": {
            "_view_name": "HBoxView",
            "_dom_classes": [],
            "_model_name": "HBoxModel",
            "_view_module": "@jupyter-widgets/controls",
            "_model_module_version": "1.5.0",
            "_view_count": null,
            "_view_module_version": "1.5.0",
            "box_style": "",
            "layout": "IPY_MODEL_c75641eb7afa499f8cfe7a8730a34c6e",
            "_model_module": "@jupyter-widgets/controls",
            "children": [
              "IPY_MODEL_2f420d9bf5c149b9b738b40aa79b41bd",
              "IPY_MODEL_f46132ede26b478fb961b362b6ca77be"
            ]
          }
        },
        "c75641eb7afa499f8cfe7a8730a34c6e": {
          "model_module": "@jupyter-widgets/base",
          "model_name": "LayoutModel",
          "state": {
            "_view_name": "LayoutView",
            "grid_template_rows": null,
            "right": null,
            "justify_content": null,
            "_view_module": "@jupyter-widgets/base",
            "overflow": null,
            "_model_module_version": "1.2.0",
            "_view_count": null,
            "flex_flow": null,
            "width": null,
            "min_width": null,
            "border": null,
            "align_items": null,
            "bottom": null,
            "_model_module": "@jupyter-widgets/base",
            "top": null,
            "grid_column": null,
            "overflow_y": null,
            "overflow_x": null,
            "grid_auto_flow": null,
            "grid_area": null,
            "grid_template_columns": null,
            "flex": null,
            "_model_name": "LayoutModel",
            "justify_items": null,
            "grid_row": null,
            "max_height": null,
            "align_content": null,
            "visibility": null,
            "align_self": null,
            "height": null,
            "min_height": null,
            "padding": null,
            "grid_auto_rows": null,
            "grid_gap": null,
            "max_width": null,
            "order": null,
            "_view_module_version": "1.2.0",
            "grid_template_areas": null,
            "object_position": null,
            "object_fit": null,
            "grid_auto_columns": null,
            "margin": null,
            "display": null,
            "left": null
          }
        },
        "2f420d9bf5c149b9b738b40aa79b41bd": {
          "model_module": "@jupyter-widgets/controls",
          "model_name": "FloatProgressModel",
          "state": {
            "_view_name": "ProgressView",
            "style": "IPY_MODEL_4ace2f5dea524fc0be8cd65b2fbf2a9e",
            "_dom_classes": [],
            "description": "",
            "_model_name": "FloatProgressModel",
            "bar_style": "success",
            "max": 1648877,
            "_view_module": "@jupyter-widgets/controls",
            "_model_module_version": "1.5.0",
            "value": 1648877,
            "_view_count": null,
            "_view_module_version": "1.5.0",
            "orientation": "horizontal",
            "min": 0,
            "description_tooltip": null,
            "_model_module": "@jupyter-widgets/controls",
            "layout": "IPY_MODEL_5f84e5f6997943ab81a103db6c66261a"
          }
        },
        "f46132ede26b478fb961b362b6ca77be": {
          "model_module": "@jupyter-widgets/controls",
          "model_name": "HTMLModel",
          "state": {
            "_view_name": "HTMLView",
            "style": "IPY_MODEL_f75d9eae6f824d878f8a31148497a0cd",
            "_dom_classes": [],
            "description": "",
            "_model_name": "HTMLModel",
            "placeholder": "​",
            "_view_module": "@jupyter-widgets/controls",
            "_model_module_version": "1.5.0",
            "value": " 1649664/? [00:28&lt;00:00, 58296.56it/s]",
            "_view_count": null,
            "_view_module_version": "1.5.0",
            "description_tooltip": null,
            "_model_module": "@jupyter-widgets/controls",
            "layout": "IPY_MODEL_fdaa42223049469da478b00a0635b97b"
          }
        },
        "4ace2f5dea524fc0be8cd65b2fbf2a9e": {
          "model_module": "@jupyter-widgets/controls",
          "model_name": "ProgressStyleModel",
          "state": {
            "_view_name": "StyleView",
            "_model_name": "ProgressStyleModel",
            "description_width": "initial",
            "_view_module": "@jupyter-widgets/base",
            "_model_module_version": "1.5.0",
            "_view_count": null,
            "_view_module_version": "1.2.0",
            "bar_color": null,
            "_model_module": "@jupyter-widgets/controls"
          }
        },
        "5f84e5f6997943ab81a103db6c66261a": {
          "model_module": "@jupyter-widgets/base",
          "model_name": "LayoutModel",
          "state": {
            "_view_name": "LayoutView",
            "grid_template_rows": null,
            "right": null,
            "justify_content": null,
            "_view_module": "@jupyter-widgets/base",
            "overflow": null,
            "_model_module_version": "1.2.0",
            "_view_count": null,
            "flex_flow": null,
            "width": null,
            "min_width": null,
            "border": null,
            "align_items": null,
            "bottom": null,
            "_model_module": "@jupyter-widgets/base",
            "top": null,
            "grid_column": null,
            "overflow_y": null,
            "overflow_x": null,
            "grid_auto_flow": null,
            "grid_area": null,
            "grid_template_columns": null,
            "flex": null,
            "_model_name": "LayoutModel",
            "justify_items": null,
            "grid_row": null,
            "max_height": null,
            "align_content": null,
            "visibility": null,
            "align_self": null,
            "height": null,
            "min_height": null,
            "padding": null,
            "grid_auto_rows": null,
            "grid_gap": null,
            "max_width": null,
            "order": null,
            "_view_module_version": "1.2.0",
            "grid_template_areas": null,
            "object_position": null,
            "object_fit": null,
            "grid_auto_columns": null,
            "margin": null,
            "display": null,
            "left": null
          }
        },
        "f75d9eae6f824d878f8a31148497a0cd": {
          "model_module": "@jupyter-widgets/controls",
          "model_name": "DescriptionStyleModel",
          "state": {
            "_view_name": "StyleView",
            "_model_name": "DescriptionStyleModel",
            "description_width": "",
            "_view_module": "@jupyter-widgets/base",
            "_model_module_version": "1.5.0",
            "_view_count": null,
            "_view_module_version": "1.2.0",
            "_model_module": "@jupyter-widgets/controls"
          }
        },
        "fdaa42223049469da478b00a0635b97b": {
          "model_module": "@jupyter-widgets/base",
          "model_name": "LayoutModel",
          "state": {
            "_view_name": "LayoutView",
            "grid_template_rows": null,
            "right": null,
            "justify_content": null,
            "_view_module": "@jupyter-widgets/base",
            "overflow": null,
            "_model_module_version": "1.2.0",
            "_view_count": null,
            "flex_flow": null,
            "width": null,
            "min_width": null,
            "border": null,
            "align_items": null,
            "bottom": null,
            "_model_module": "@jupyter-widgets/base",
            "top": null,
            "grid_column": null,
            "overflow_y": null,
            "overflow_x": null,
            "grid_auto_flow": null,
            "grid_area": null,
            "grid_template_columns": null,
            "flex": null,
            "_model_name": "LayoutModel",
            "justify_items": null,
            "grid_row": null,
            "max_height": null,
            "align_content": null,
            "visibility": null,
            "align_self": null,
            "height": null,
            "min_height": null,
            "padding": null,
            "grid_auto_rows": null,
            "grid_gap": null,
            "max_width": null,
            "order": null,
            "_view_module_version": "1.2.0",
            "grid_template_areas": null,
            "object_position": null,
            "object_fit": null,
            "grid_auto_columns": null,
            "margin": null,
            "display": null,
            "left": null
          }
        },
        "286c8117e0494e3ebf9659a73a6e0d2e": {
          "model_module": "@jupyter-widgets/controls",
          "model_name": "HBoxModel",
          "state": {
            "_view_name": "HBoxView",
            "_dom_classes": [],
            "_model_name": "HBoxModel",
            "_view_module": "@jupyter-widgets/controls",
            "_model_module_version": "1.5.0",
            "_view_count": null,
            "_view_module_version": "1.5.0",
            "box_style": "",
            "layout": "IPY_MODEL_feb88d57329d48f8bdcd984260527b5e",
            "_model_module": "@jupyter-widgets/controls",
            "children": [
              "IPY_MODEL_7981b68b661142599b56e023ffab2997",
              "IPY_MODEL_9fdececf92a24d68ab42c4e90e970f78"
            ]
          }
        },
        "feb88d57329d48f8bdcd984260527b5e": {
          "model_module": "@jupyter-widgets/base",
          "model_name": "LayoutModel",
          "state": {
            "_view_name": "LayoutView",
            "grid_template_rows": null,
            "right": null,
            "justify_content": null,
            "_view_module": "@jupyter-widgets/base",
            "overflow": null,
            "_model_module_version": "1.2.0",
            "_view_count": null,
            "flex_flow": null,
            "width": null,
            "min_width": null,
            "border": null,
            "align_items": null,
            "bottom": null,
            "_model_module": "@jupyter-widgets/base",
            "top": null,
            "grid_column": null,
            "overflow_y": null,
            "overflow_x": null,
            "grid_auto_flow": null,
            "grid_area": null,
            "grid_template_columns": null,
            "flex": null,
            "_model_name": "LayoutModel",
            "justify_items": null,
            "grid_row": null,
            "max_height": null,
            "align_content": null,
            "visibility": null,
            "align_self": null,
            "height": null,
            "min_height": null,
            "padding": null,
            "grid_auto_rows": null,
            "grid_gap": null,
            "max_width": null,
            "order": null,
            "_view_module_version": "1.2.0",
            "grid_template_areas": null,
            "object_position": null,
            "object_fit": null,
            "grid_auto_columns": null,
            "margin": null,
            "display": null,
            "left": null
          }
        },
        "7981b68b661142599b56e023ffab2997": {
          "model_module": "@jupyter-widgets/controls",
          "model_name": "FloatProgressModel",
          "state": {
            "_view_name": "ProgressView",
            "style": "IPY_MODEL_8e477cf765ec4801b64cdb66ead9e749",
            "_dom_classes": [],
            "description": "",
            "_model_name": "FloatProgressModel",
            "bar_style": "success",
            "max": 4542,
            "_view_module": "@jupyter-widgets/controls",
            "_model_module_version": "1.5.0",
            "value": 4542,
            "_view_count": null,
            "_view_module_version": "1.5.0",
            "orientation": "horizontal",
            "min": 0,
            "description_tooltip": null,
            "_model_module": "@jupyter-widgets/controls",
            "layout": "IPY_MODEL_847711176d2842bcb126c89a20a08228"
          }
        },
        "9fdececf92a24d68ab42c4e90e970f78": {
          "model_module": "@jupyter-widgets/controls",
          "model_name": "HTMLModel",
          "state": {
            "_view_name": "HTMLView",
            "style": "IPY_MODEL_f058a9e0e2364281b46ba201426af6f3",
            "_dom_classes": [],
            "description": "",
            "_model_name": "HTMLModel",
            "placeholder": "​",
            "_view_module": "@jupyter-widgets/controls",
            "_model_module_version": "1.5.0",
            "value": " 5120/? [00:06&lt;00:00, 853.23it/s]",
            "_view_count": null,
            "_view_module_version": "1.5.0",
            "description_tooltip": null,
            "_model_module": "@jupyter-widgets/controls",
            "layout": "IPY_MODEL_095d5bc50d4d482dba875cc9b5f09077"
          }
        },
        "8e477cf765ec4801b64cdb66ead9e749": {
          "model_module": "@jupyter-widgets/controls",
          "model_name": "ProgressStyleModel",
          "state": {
            "_view_name": "StyleView",
            "_model_name": "ProgressStyleModel",
            "description_width": "initial",
            "_view_module": "@jupyter-widgets/base",
            "_model_module_version": "1.5.0",
            "_view_count": null,
            "_view_module_version": "1.2.0",
            "bar_color": null,
            "_model_module": "@jupyter-widgets/controls"
          }
        },
        "847711176d2842bcb126c89a20a08228": {
          "model_module": "@jupyter-widgets/base",
          "model_name": "LayoutModel",
          "state": {
            "_view_name": "LayoutView",
            "grid_template_rows": null,
            "right": null,
            "justify_content": null,
            "_view_module": "@jupyter-widgets/base",
            "overflow": null,
            "_model_module_version": "1.2.0",
            "_view_count": null,
            "flex_flow": null,
            "width": null,
            "min_width": null,
            "border": null,
            "align_items": null,
            "bottom": null,
            "_model_module": "@jupyter-widgets/base",
            "top": null,
            "grid_column": null,
            "overflow_y": null,
            "overflow_x": null,
            "grid_auto_flow": null,
            "grid_area": null,
            "grid_template_columns": null,
            "flex": null,
            "_model_name": "LayoutModel",
            "justify_items": null,
            "grid_row": null,
            "max_height": null,
            "align_content": null,
            "visibility": null,
            "align_self": null,
            "height": null,
            "min_height": null,
            "padding": null,
            "grid_auto_rows": null,
            "grid_gap": null,
            "max_width": null,
            "order": null,
            "_view_module_version": "1.2.0",
            "grid_template_areas": null,
            "object_position": null,
            "object_fit": null,
            "grid_auto_columns": null,
            "margin": null,
            "display": null,
            "left": null
          }
        },
        "f058a9e0e2364281b46ba201426af6f3": {
          "model_module": "@jupyter-widgets/controls",
          "model_name": "DescriptionStyleModel",
          "state": {
            "_view_name": "StyleView",
            "_model_name": "DescriptionStyleModel",
            "description_width": "",
            "_view_module": "@jupyter-widgets/base",
            "_model_module_version": "1.5.0",
            "_view_count": null,
            "_view_module_version": "1.2.0",
            "_model_module": "@jupyter-widgets/controls"
          }
        },
        "095d5bc50d4d482dba875cc9b5f09077": {
          "model_module": "@jupyter-widgets/base",
          "model_name": "LayoutModel",
          "state": {
            "_view_name": "LayoutView",
            "grid_template_rows": null,
            "right": null,
            "justify_content": null,
            "_view_module": "@jupyter-widgets/base",
            "overflow": null,
            "_model_module_version": "1.2.0",
            "_view_count": null,
            "flex_flow": null,
            "width": null,
            "min_width": null,
            "border": null,
            "align_items": null,
            "bottom": null,
            "_model_module": "@jupyter-widgets/base",
            "top": null,
            "grid_column": null,
            "overflow_y": null,
            "overflow_x": null,
            "grid_auto_flow": null,
            "grid_area": null,
            "grid_template_columns": null,
            "flex": null,
            "_model_name": "LayoutModel",
            "justify_items": null,
            "grid_row": null,
            "max_height": null,
            "align_content": null,
            "visibility": null,
            "align_self": null,
            "height": null,
            "min_height": null,
            "padding": null,
            "grid_auto_rows": null,
            "grid_gap": null,
            "max_width": null,
            "order": null,
            "_view_module_version": "1.2.0",
            "grid_template_areas": null,
            "object_position": null,
            "object_fit": null,
            "grid_auto_columns": null,
            "margin": null,
            "display": null,
            "left": null
          }
        }
      }
    }
  },
  "cells": [
    {
      "cell_type": "markdown",
      "metadata": {
        "id": "view-in-github",
        "colab_type": "text"
      },
      "source": [
        "<a href=\"https://colab.research.google.com/github/quaternion12345/AI/blob/main/Untitled0.ipynb\" target=\"_parent\"><img src=\"https://colab.research.google.com/assets/colab-badge.svg\" alt=\"Open In Colab\"/></a>"
      ]
    },
    {
      "cell_type": "code",
      "metadata": {
        "id": "TeVGWZGKy0Yn"
      },
      "source": [
        "import torch\r\n",
        "import torch.nn.init\r\n",
        "import torch.nn as nn\r\n",
        "import torch.nn.functional as F\r\n",
        "import torchvision.datasets as datasets\r\n",
        "import torchvision.transforms as transforms\r\n",
        "import numpy as np\r\n",
        "from torch.utils.data.sampler import SubsetRandomSampler"
      ],
      "execution_count": 15,
      "outputs": []
    },
    {
      "cell_type": "code",
      "metadata": {
        "id": "dVx9I7A_zVHU"
      },
      "source": [
        "# Multi Layer Perceptron\r\n",
        "class Net(nn.Module):\r\n",
        "  \r\n",
        "  def __init__(self):\r\n",
        "    super(Net, self).__init__()\r\n",
        "    self.l1 = nn.Linear(784,520)\r\n",
        "    self.l2 = nn.Linear(520,320)\r\n",
        "    self.l3 = nn.Linear(320,240)\r\n",
        "    self.l4 = nn.Linear(240,120)\r\n",
        "    self.l5 = nn.Linear(120,10)\r\n",
        "\r\n",
        "  def forward(self, x):\r\n",
        "    x = x.view(-1,784) # Flatten data\r\n",
        "    # Neural Network\r\n",
        "    x = F.relu(self.l1(x))\r\n",
        "    x = F.relu(self.l2(x))\r\n",
        "    x = F.relu(self.l3(x))\r\n",
        "    x = F.relu(self.l4(x))\r\n",
        "    return self.l5(x)\r\n",
        "\r\n",
        "net = Net()"
      ],
      "execution_count": 7,
      "outputs": []
    },
    {
      "cell_type": "code",
      "metadata": {
        "colab": {
          "base_uri": "https://localhost:8080/"
        },
        "id": "lIhwKERVzo9Q",
        "outputId": "f04a29cb-57d6-492c-860f-81ddc7c36459"
      },
      "source": [
        "print(net)"
      ],
      "execution_count": 5,
      "outputs": [
        {
          "output_type": "stream",
          "text": [
            "Net(\n",
            "  (l1): Linear(in_features=784, out_features=520, bias=True)\n",
            "  (l2): Linear(in_features=520, out_features=320, bias=True)\n",
            "  (l3): Linear(in_features=320, out_features=240, bias=True)\n",
            "  (l4): Linear(in_features=240, out_features=120, bias=True)\n",
            "  (l5): Linear(in_features=120, out_features=10, bias=True)\n",
            ")\n"
          ],
          "name": "stdout"
        }
      ]
    },
    {
      "cell_type": "code",
      "metadata": {
        "id": "-nyyzwmj6TWF"
      },
      "source": [
        "import torch.optim as optim\r\n",
        "# Set Hyperparameter\r\n",
        "learning_rate = 0.001\r\n",
        "training_epochs = 20\r\n",
        "batch_size = 100\r\n",
        "valid_size = 0.2"
      ],
      "execution_count": 8,
      "outputs": []
    },
    {
      "cell_type": "code",
      "metadata": {
        "id": "MoXfOIGP8KXH"
      },
      "source": [
        "# Set Loss, Optimizer\r\n",
        "criterion = nn.CrossEntropyLoss() # softmax + cross entropy\r\n",
        "optimizer = optim.Adam(net.parameters(), lr=learning_rate) # ADAM optimizer"
      ],
      "execution_count": 9,
      "outputs": []
    },
    {
      "cell_type": "code",
      "metadata": {
        "colab": {
          "base_uri": "https://localhost:8080/",
          "height": 453,
          "referenced_widgets": [
            "2f353d737fbd4ff9b1f4868962b93c7b",
            "b870262751a14e57a40637fd207e96f3",
            "4668855676e646f59ef46f2d2b988449",
            "794ee67a813c4ae7a442add2348f2309",
            "fa45d4e7169b4ebeb06e0224cd002462",
            "1da20073e9fd42889c1bdc28856907f3",
            "fcfd1593be844fe28de8393963cffd6c",
            "12bbdfb51524446bb0cb33ba59cc9635",
            "19324aa348484a7a9e0950fd6df4242a",
            "80e03014a6434f7abaaa89756a5b2d1d",
            "b6942e5484ab4cdcad3e1023c5b4ec83",
            "c2aa5ad23d974218b4dab1a1fe8ca81d",
            "22523ac5cc7e43fa9fa664cf98c0126b",
            "7ed05823d79844ec835fee89941b68a0",
            "ac75f96af52742868f15d8ea593294cc",
            "7271b25f524c4b65be56dfda8bfc26eb",
            "d49384adf9774ae9833d5ca4a0551871",
            "c75641eb7afa499f8cfe7a8730a34c6e",
            "2f420d9bf5c149b9b738b40aa79b41bd",
            "f46132ede26b478fb961b362b6ca77be",
            "4ace2f5dea524fc0be8cd65b2fbf2a9e",
            "5f84e5f6997943ab81a103db6c66261a",
            "f75d9eae6f824d878f8a31148497a0cd",
            "fdaa42223049469da478b00a0635b97b",
            "286c8117e0494e3ebf9659a73a6e0d2e",
            "feb88d57329d48f8bdcd984260527b5e",
            "7981b68b661142599b56e023ffab2997",
            "9fdececf92a24d68ab42c4e90e970f78",
            "8e477cf765ec4801b64cdb66ead9e749",
            "847711176d2842bcb126c89a20a08228",
            "f058a9e0e2364281b46ba201426af6f3",
            "095d5bc50d4d482dba875cc9b5f09077"
          ]
        },
        "id": "1C-8auHB9KTd",
        "outputId": "7dcaabdc-d2d2-4fab-9f91-0748c4846d3d"
      },
      "source": [
        "# Load datasets\r\n",
        "mnist_train = datasets.MNIST(root='data', # download location\r\n",
        "                          train=True,\r\n",
        "                          transform=transforms.ToTensor(), # convert to tensor\r\n",
        "                          download=True)\r\n",
        "\r\n",
        "mnist_test = datasets.MNIST(root='data',\r\n",
        "                         train=False, \r\n",
        "                         transform=transforms.ToTensor(),\r\n",
        "                         download=True)"
      ],
      "execution_count": 10,
      "outputs": [
        {
          "output_type": "stream",
          "text": [
            "Downloading http://yann.lecun.com/exdb/mnist/train-images-idx3-ubyte.gz to data/MNIST/raw/train-images-idx3-ubyte.gz\n"
          ],
          "name": "stdout"
        },
        {
          "output_type": "display_data",
          "data": {
            "application/vnd.jupyter.widget-view+json": {
              "model_id": "2f353d737fbd4ff9b1f4868962b93c7b",
              "version_minor": 0,
              "version_major": 2
            },
            "text/plain": [
              "HBox(children=(FloatProgress(value=0.0, max=9912422.0), HTML(value='')))"
            ]
          },
          "metadata": {
            "tags": []
          }
        },
        {
          "output_type": "stream",
          "text": [
            "\n",
            "Extracting data/MNIST/raw/train-images-idx3-ubyte.gz to data/MNIST/raw\n",
            "Downloading http://yann.lecun.com/exdb/mnist/train-labels-idx1-ubyte.gz to data/MNIST/raw/train-labels-idx1-ubyte.gz\n"
          ],
          "name": "stdout"
        },
        {
          "output_type": "display_data",
          "data": {
            "application/vnd.jupyter.widget-view+json": {
              "model_id": "19324aa348484a7a9e0950fd6df4242a",
              "version_minor": 0,
              "version_major": 2
            },
            "text/plain": [
              "HBox(children=(FloatProgress(value=0.0, max=28881.0), HTML(value='')))"
            ]
          },
          "metadata": {
            "tags": []
          }
        },
        {
          "output_type": "stream",
          "text": [
            "\n",
            "Extracting data/MNIST/raw/train-labels-idx1-ubyte.gz to data/MNIST/raw\n",
            "Downloading http://yann.lecun.com/exdb/mnist/t10k-images-idx3-ubyte.gz to data/MNIST/raw/t10k-images-idx3-ubyte.gz\n"
          ],
          "name": "stdout"
        },
        {
          "output_type": "display_data",
          "data": {
            "application/vnd.jupyter.widget-view+json": {
              "model_id": "d49384adf9774ae9833d5ca4a0551871",
              "version_minor": 0,
              "version_major": 2
            },
            "text/plain": [
              "HBox(children=(FloatProgress(value=0.0, max=1648877.0), HTML(value='')))"
            ]
          },
          "metadata": {
            "tags": []
          }
        },
        {
          "output_type": "stream",
          "text": [
            "\n",
            "Extracting data/MNIST/raw/t10k-images-idx3-ubyte.gz to data/MNIST/raw\n",
            "Downloading http://yann.lecun.com/exdb/mnist/t10k-labels-idx1-ubyte.gz to data/MNIST/raw/t10k-labels-idx1-ubyte.gz\n"
          ],
          "name": "stdout"
        },
        {
          "output_type": "display_data",
          "data": {
            "application/vnd.jupyter.widget-view+json": {
              "model_id": "286c8117e0494e3ebf9659a73a6e0d2e",
              "version_minor": 0,
              "version_major": 2
            },
            "text/plain": [
              "HBox(children=(FloatProgress(value=0.0, max=4542.0), HTML(value='')))"
            ]
          },
          "metadata": {
            "tags": []
          }
        },
        {
          "output_type": "stream",
          "text": [
            "\n",
            "Extracting data/MNIST/raw/t10k-labels-idx1-ubyte.gz to data/MNIST/raw\n",
            "Processing...\n",
            "Done!\n"
          ],
          "name": "stdout"
        },
        {
          "output_type": "stream",
          "text": [
            "/usr/local/lib/python3.7/dist-packages/torchvision/datasets/mnist.py:479: UserWarning: The given NumPy array is not writeable, and PyTorch does not support non-writeable tensors. This means you can write to the underlying (supposedly non-writeable) NumPy array using the tensor. You may want to copy the array to protect its data or make it writeable before converting it to a tensor. This type of warning will be suppressed for the rest of this program. (Triggered internally at  /pytorch/torch/csrc/utils/tensor_numpy.cpp:143.)\n",
            "  return torch.from_numpy(parsed.astype(m[2], copy=False)).view(*s)\n"
          ],
          "name": "stderr"
        }
      ]
    },
    {
      "cell_type": "code",
      "metadata": {
        "id": "-LwLXIST8vG6"
      },
      "source": [
        "# Prepare dataset for train, validation, test\r\n",
        "# divide data between train set and validation set\r\n",
        "num_train = len(mnist_train)\r\n",
        "indices = list(range(num_train))\r\n",
        "np.random.shuffle(indices)\r\n",
        "split = int(np.floor(valid_size * num_train))\r\n",
        "train_index, valid_index = indices[split:], indices[:split]\r\n",
        "\r\n",
        "# define sampler\r\n",
        "train_sampler = SubsetRandomSampler(train_index)\r\n",
        "valid_sampler = SubsetRandomSampler(valid_index)\r\n",
        "\r\n",
        "\r\n",
        "train_loader = torch.utils.data.DataLoader(mnist_train, \r\n",
        "                                           batch_size = batch_size, \r\n",
        "                                           sampler = train_sampler)\r\n",
        "valid_loader = torch.utils.data.DataLoader(mnist_train, \r\n",
        "                                           batch_size = batch_size,\r\n",
        "                                           sampler = valid_sampler)\r\n",
        "test_loader = torch.utils.data.DataLoader(mnist_test, \r\n",
        "                                          batch_size = batch_size)"
      ],
      "execution_count": 16,
      "outputs": []
    },
    {
      "cell_type": "code",
      "metadata": {
        "colab": {
          "base_uri": "https://localhost:8080/"
        },
        "id": "5hLqGGOd0adn",
        "outputId": "05b6f48b-5d00-4245-cc72-485f42fd9584"
      },
      "source": [
        "for epoch in range(training_epochs):\r\n",
        "    # monitor losses\r\n",
        "    train_loss = 0\r\n",
        "    valid_loss = 0\r\n",
        "    \r\n",
        "    # train the model   \r\n",
        "    net.train()\r\n",
        "    for data,label in train_loader:\r\n",
        "        # clear the gradients of all optimized variables\r\n",
        "        optimizer.zero_grad()\r\n",
        "        # forward pass: compute predicted outputs by passing inputs to the model\r\n",
        "        output = net(data)\r\n",
        "        # calculate the loss\r\n",
        "        loss = criterion(output,label)\r\n",
        "        # backward pass: compute gradient of the loss with respect to model parameters\r\n",
        "        loss.backward()\r\n",
        "        # perform a single optimization step (parameter update)\r\n",
        "        optimizer.step()\r\n",
        "        # update running training loss\r\n",
        "        train_loss += loss.item() * data.size(0)\r\n",
        "            \r\n",
        "    # validate the model\r\n",
        "    net.eval()\r\n",
        "    for data,label in valid_loader:\r\n",
        "        # forward pass: compute predicted outputs by passing inputs to the model\r\n",
        "        output = net(data)\r\n",
        "        # calculate the loss\r\n",
        "        loss = criterion(output,label)\r\n",
        "        # update running validation loss \r\n",
        "        valid_loss = loss.item() * data.size(0)\r\n",
        "    \r\n",
        "    # print training/validation statistics \r\n",
        "    # calculate average loss over an epoch\r\n",
        "    train_loss = train_loss / len(train_loader.sampler)\r\n",
        "    valid_loss = valid_loss / len(valid_loader.sampler)\r\n",
        "    \r\n",
        "    print('Epoch: {} \\tTraining Loss: {:.6f} \\tValidation Loss: {:.6f}'.format(\r\n",
        "        epoch+1, \r\n",
        "        train_loss,\r\n",
        "        valid_loss\r\n",
        "        ))   "
      ],
      "execution_count": 18,
      "outputs": [
        {
          "output_type": "stream",
          "text": [
            "Epoch: 1 \tTraining Loss: 0.342435 \tValidation Loss: 0.001150\n",
            "Epoch: 2 \tTraining Loss: 0.116454 \tValidation Loss: 0.001334\n",
            "Epoch: 3 \tTraining Loss: 0.078697 \tValidation Loss: 0.000636\n",
            "Epoch: 4 \tTraining Loss: 0.059022 \tValidation Loss: 0.000506\n",
            "Epoch: 5 \tTraining Loss: 0.043022 \tValidation Loss: 0.000814\n",
            "Epoch: 6 \tTraining Loss: 0.036881 \tValidation Loss: 0.000212\n",
            "Epoch: 7 \tTraining Loss: 0.027867 \tValidation Loss: 0.000993\n",
            "Epoch: 8 \tTraining Loss: 0.026935 \tValidation Loss: 0.001062\n",
            "Epoch: 9 \tTraining Loss: 0.022730 \tValidation Loss: 0.000086\n",
            "Epoch: 10 \tTraining Loss: 0.019078 \tValidation Loss: 0.001439\n",
            "Epoch: 11 \tTraining Loss: 0.020713 \tValidation Loss: 0.000662\n",
            "Epoch: 12 \tTraining Loss: 0.017158 \tValidation Loss: 0.000636\n",
            "Epoch: 13 \tTraining Loss: 0.016519 \tValidation Loss: 0.001073\n",
            "Epoch: 14 \tTraining Loss: 0.014395 \tValidation Loss: 0.000978\n",
            "Epoch: 15 \tTraining Loss: 0.013650 \tValidation Loss: 0.000385\n",
            "Epoch: 16 \tTraining Loss: 0.014734 \tValidation Loss: 0.000841\n",
            "Epoch: 17 \tTraining Loss: 0.012073 \tValidation Loss: 0.000342\n",
            "Epoch: 18 \tTraining Loss: 0.011290 \tValidation Loss: 0.001402\n",
            "Epoch: 19 \tTraining Loss: 0.011724 \tValidation Loss: 0.000340\n",
            "Epoch: 20 \tTraining Loss: 0.012436 \tValidation Loss: 0.001606\n"
          ],
          "name": "stdout"
        }
      ]
    },
    {
      "cell_type": "code",
      "metadata": {
        "colab": {
          "base_uri": "https://localhost:8080/"
        },
        "id": "yxnSSwJs6-Bb",
        "outputId": "5d9e4db1-a9a2-47f3-bd6c-e312cb031f97"
      },
      "source": [
        "# initialize lists to monitor test loss and accuracy\r\n",
        "test_loss = 0.0\r\n",
        "class_correct = list(0. for i in range(10))\r\n",
        "class_total = list(0. for i in range(10))\r\n",
        "\r\n",
        "net.eval()\r\n",
        "for data, target in test_loader:\r\n",
        "    # forward pass: compute predicted outputs by passing inputs to the model\r\n",
        "    output = net(data)\r\n",
        "    # calculate the loss\r\n",
        "    loss = criterion(output, target)\r\n",
        "    # update test loss \r\n",
        "    test_loss += loss.item()*data.size(0)\r\n",
        "    # convert output probabilities to predicted class\r\n",
        "    _, pred = torch.max(output, 1)\r\n",
        "    # compare predictions to true label\r\n",
        "    correct = np.squeeze(pred.eq(target.data.view_as(pred)))\r\n",
        "    # calculate test accuracy for each object class\r\n",
        "    for i in range(len(target)):\r\n",
        "        label = target.data[i]\r\n",
        "        class_correct[label] += correct[i].item()\r\n",
        "        class_total[label] += 1\r\n",
        "        \r\n",
        "# calculate and print avg test loss\r\n",
        "test_loss = test_loss/len(test_loader.sampler)\r\n",
        "print('Test Loss: {:.6f}\\n'.format(test_loss))\r\n",
        "for i in range(10):\r\n",
        "    if class_total[i] > 0:\r\n",
        "        print('Test Accuracy of %5s: %2d%% (%2d/%2d)' % (\r\n",
        "            str(i), 100 * class_correct[i] / class_total[i],\r\n",
        "            np.sum(class_correct[i]), np.sum(class_total[i])))\r\n",
        "    else:\r\n",
        "        print('Test Accuracy of %5s: N/A (no training examples)' % (classes[i]))\r\n",
        "print('\\nTest Accuracy (Overall): %2d%% (%2d/%2d)' % (\r\n",
        "    100. * np.sum(class_correct) / np.sum(class_total),\r\n",
        "    np.sum(class_correct), np.sum(class_total)))"
      ],
      "execution_count": 19,
      "outputs": [
        {
          "output_type": "stream",
          "text": [
            "Test Loss: 0.078978\n",
            "\n",
            "Test Accuracy of     0: 98% (962/980)\n",
            "Test Accuracy of     1: 99% (1133/1135)\n",
            "Test Accuracy of     2: 98% (1016/1032)\n",
            "Test Accuracy of     3: 97% (987/1010)\n",
            "Test Accuracy of     4: 98% (970/982)\n",
            "Test Accuracy of     5: 98% (880/892)\n",
            "Test Accuracy of     6: 98% (943/958)\n",
            "Test Accuracy of     7: 97% (1007/1028)\n",
            "Test Accuracy of     8: 97% (948/974)\n",
            "Test Accuracy of     9: 97% (982/1009)\n",
            "\n",
            "Test Accuracy (Overall): 98% (9828/10000)\n"
          ],
          "name": "stdout"
        }
      ]
    }
  ]
}